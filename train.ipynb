{
 "cells": [
  {
   "cell_type": "code",
   "execution_count": 1,
   "id": "49d0c6df",
   "metadata": {},
   "outputs": [],
   "source": [
    "#install keras and tensorflow packages\n",
    "#import the required packages\n",
    "from keras.models import Sequential\n",
    "from keras.layers import Conv2D\n",
    "from keras.layers import MaxPooling2D\n",
    "from keras.layers import Flatten\n",
    "from keras.layers import Dense\n",
    "from keras.preprocessing.image import ImageDataGenerator"
   ]
  },
  {
   "cell_type": "code",
   "execution_count": 2,
   "id": "9f3c9f99",
   "metadata": {},
   "outputs": [],
   "source": [
    "#creating the required model\n",
    "model = Sequential()\n",
    "model.add(Conv2D(32, (3, 3), input_shape = (64, 64, 3), activation = 'relu'))\n",
    "model.add(MaxPooling2D(pool_size = (2, 2)))\n",
    "model.add(Flatten())\n",
    "model.add(Dense(units = 128, activation = 'relu'))\n",
    "model.add(Dense(units = 1, activation = 'sigmoid'))"
   ]
  },
  {
   "cell_type": "code",
   "execution_count": 3,
   "id": "28eb026f",
   "metadata": {},
   "outputs": [],
   "source": [
    "model.compile(optimizer = 'adam', loss = 'binary_crossentropy', metrics = ['accuracy'])"
   ]
  },
  {
   "cell_type": "code",
   "execution_count": 4,
   "id": "3fe664f2",
   "metadata": {},
   "outputs": [
    {
     "name": "stdout",
     "output_type": "stream",
     "text": [
      "Found 888 images belonging to 2 classes.\n",
      "Found 144 images belonging to 2 classes.\n"
     ]
    }
   ],
   "source": [
    "#training and validating the dataset\n",
    "train_datagen = ImageDataGenerator(rescale = 1./255,\n",
    "                                   shear_range = 0.2,\n",
    "                                   zoom_range = 0.2,\n",
    "                                   horizontal_flip = True)\n",
    "val_datagen = ImageDataGenerator(rescale = 1./255)\n",
    "#training\n",
    "training_set = train_datagen.flow_from_directory('C:/Users/musth/Desktop/shatru/Dataset/train',\n",
    "                                                 target_size = (64, 64),\n",
    "                                                 batch_size = 8,\n",
    "                                                 class_mode = 'binary')\n",
    "#validating\n",
    "val_set = val_datagen.flow_from_directory('C:/Users/musth/Desktop/shatru/Dataset/val',\n",
    "                                            target_size = (64, 64),\n",
    "                                            batch_size = 8,\n",
    "                                            class_mode = 'binary')"
   ]
  },
  {
   "cell_type": "code",
   "execution_count": 5,
   "id": "2cd63fef",
   "metadata": {},
   "outputs": [
    {
     "name": "stderr",
     "output_type": "stream",
     "text": [
      "C:\\Users\\musth\\anaconda3\\lib\\site-packages\\keras\\engine\\training.py:1915: UserWarning: `Model.fit_generator` is deprecated and will be removed in a future version. Please use `Model.fit`, which supports generators.\n",
      "  warnings.warn('`Model.fit_generator` is deprecated and '\n"
     ]
    },
    {
     "name": "stdout",
     "output_type": "stream",
     "text": [
      "Epoch 1/50\n",
      "10/10 [==============================] - 53s 408ms/step - loss: 1.7787 - accuracy: 0.5014 - val_loss: 0.4919 - val_accuracy: 0.6875\n",
      "Epoch 2/50\n",
      "10/10 [==============================] - 2s 181ms/step - loss: 0.7664 - accuracy: 0.5657 - val_loss: 0.6869 - val_accuracy: 0.4375\n",
      "Epoch 3/50\n",
      "10/10 [==============================] - 2s 197ms/step - loss: 0.5661 - accuracy: 0.8013 - val_loss: 0.2860 - val_accuracy: 0.8750\n",
      "Epoch 4/50\n",
      "10/10 [==============================] - 2s 173ms/step - loss: 0.4456 - accuracy: 0.8273 - val_loss: 1.1834 - val_accuracy: 0.5000\n",
      "Epoch 5/50\n",
      "10/10 [==============================] - 1s 137ms/step - loss: 0.5996 - accuracy: 0.7220 - val_loss: 0.2244 - val_accuracy: 0.9375\n",
      "Epoch 6/50\n",
      "10/10 [==============================] - 2s 172ms/step - loss: 0.4497 - accuracy: 0.7751 - val_loss: 0.5559 - val_accuracy: 0.7500\n",
      "Epoch 7/50\n",
      "10/10 [==============================] - 2s 179ms/step - loss: 0.2837 - accuracy: 0.8454 - val_loss: 0.3064 - val_accuracy: 0.8750\n",
      "Epoch 8/50\n",
      "10/10 [==============================] - 2s 184ms/step - loss: 0.3015 - accuracy: 0.8766 - val_loss: 0.4207 - val_accuracy: 0.8125\n",
      "Epoch 9/50\n",
      "10/10 [==============================] - 2s 165ms/step - loss: 0.2739 - accuracy: 0.9074 - val_loss: 0.1640 - val_accuracy: 0.9375\n",
      "Epoch 10/50\n",
      "10/10 [==============================] - 2s 194ms/step - loss: 0.2068 - accuracy: 0.9541 - val_loss: 0.1683 - val_accuracy: 0.9375\n",
      "Epoch 11/50\n",
      "10/10 [==============================] - 2s 186ms/step - loss: 0.1580 - accuracy: 0.9286 - val_loss: 0.4453 - val_accuracy: 0.7500\n",
      "Epoch 12/50\n",
      "10/10 [==============================] - 1s 145ms/step - loss: 0.3345 - accuracy: 0.8717 - val_loss: 0.3894 - val_accuracy: 0.8750\n",
      "Epoch 13/50\n",
      "10/10 [==============================] - 2s 187ms/step - loss: 0.2537 - accuracy: 0.8956 - val_loss: 0.2631 - val_accuracy: 0.9375\n",
      "Epoch 14/50\n",
      "10/10 [==============================] - 1s 132ms/step - loss: 0.2233 - accuracy: 0.8991 - val_loss: 0.3964 - val_accuracy: 0.8125\n",
      "Epoch 15/50\n",
      "10/10 [==============================] - 2s 187ms/step - loss: 0.4445 - accuracy: 0.8221 - val_loss: 0.6106 - val_accuracy: 0.8125\n",
      "Epoch 16/50\n",
      "10/10 [==============================] - 2s 181ms/step - loss: 0.2294 - accuracy: 0.9013 - val_loss: 0.2636 - val_accuracy: 0.9375\n",
      "Epoch 17/50\n",
      "10/10 [==============================] - 2s 187ms/step - loss: 0.3350 - accuracy: 0.8240 - val_loss: 0.1041 - val_accuracy: 0.9375\n",
      "Epoch 18/50\n",
      "10/10 [==============================] - 2s 222ms/step - loss: 0.2892 - accuracy: 0.8707 - val_loss: 0.2720 - val_accuracy: 0.8750\n",
      "Epoch 19/50\n",
      "10/10 [==============================] - 1s 133ms/step - loss: 0.2321 - accuracy: 0.9843 - val_loss: 0.2255 - val_accuracy: 0.8750\n",
      "Epoch 20/50\n",
      "10/10 [==============================] - 2s 160ms/step - loss: 0.2012 - accuracy: 0.9309 - val_loss: 0.1216 - val_accuracy: 0.9375\n",
      "Epoch 21/50\n",
      "10/10 [==============================] - 1s 141ms/step - loss: 0.1678 - accuracy: 0.8863 - val_loss: 0.4398 - val_accuracy: 0.8750\n",
      "Epoch 22/50\n",
      "10/10 [==============================] - 2s 194ms/step - loss: 0.2240 - accuracy: 0.9044 - val_loss: 0.1627 - val_accuracy: 0.8750\n",
      "Epoch 23/50\n",
      "10/10 [==============================] - 2s 217ms/step - loss: 0.3577 - accuracy: 0.8421 - val_loss: 0.5180 - val_accuracy: 0.7500\n",
      "Epoch 24/50\n",
      "10/10 [==============================] - 1s 144ms/step - loss: 0.2485 - accuracy: 0.9143 - val_loss: 0.0523 - val_accuracy: 1.0000\n",
      "Epoch 25/50\n",
      "10/10 [==============================] - 1s 139ms/step - loss: 0.2194 - accuracy: 0.9018 - val_loss: 0.0586 - val_accuracy: 1.0000\n",
      "Epoch 26/50\n",
      "10/10 [==============================] - 1s 147ms/step - loss: 0.1690 - accuracy: 0.9093 - val_loss: 0.2207 - val_accuracy: 0.9375\n",
      "Epoch 27/50\n",
      "10/10 [==============================] - 2s 160ms/step - loss: 0.2632 - accuracy: 0.8989 - val_loss: 0.3285 - val_accuracy: 0.8750\n",
      "Epoch 28/50\n",
      "10/10 [==============================] - 1s 117ms/step - loss: 0.3552 - accuracy: 0.8405 - val_loss: 0.1121 - val_accuracy: 1.0000\n",
      "Epoch 29/50\n",
      "10/10 [==============================] - 1s 133ms/step - loss: 0.2578 - accuracy: 0.8928 - val_loss: 0.3490 - val_accuracy: 0.8750\n",
      "Epoch 30/50\n",
      "10/10 [==============================] - 1s 132ms/step - loss: 0.2439 - accuracy: 0.8945 - val_loss: 0.6326 - val_accuracy: 0.7500\n",
      "Epoch 31/50\n",
      "10/10 [==============================] - 1s 139ms/step - loss: 0.2284 - accuracy: 0.9183 - val_loss: 0.0811 - val_accuracy: 0.9375\n",
      "Epoch 32/50\n",
      "10/10 [==============================] - 2s 157ms/step - loss: 0.2779 - accuracy: 0.9166 - val_loss: 0.4049 - val_accuracy: 0.8750\n",
      "Epoch 33/50\n",
      "10/10 [==============================] - 1s 123ms/step - loss: 0.1763 - accuracy: 0.9375 - val_loss: 0.2692 - val_accuracy: 0.8750\n",
      "Epoch 34/50\n",
      "10/10 [==============================] - 1s 145ms/step - loss: 0.3076 - accuracy: 0.8819 - val_loss: 0.1286 - val_accuracy: 0.9375\n",
      "Epoch 35/50\n",
      "10/10 [==============================] - 1s 137ms/step - loss: 0.1883 - accuracy: 0.9012 - val_loss: 0.0288 - val_accuracy: 1.0000\n",
      "Epoch 36/50\n",
      "10/10 [==============================] - 1s 149ms/step - loss: 0.0963 - accuracy: 0.9892 - val_loss: 0.0167 - val_accuracy: 1.0000\n",
      "Epoch 37/50\n",
      "10/10 [==============================] - 1s 131ms/step - loss: 0.0915 - accuracy: 0.9742 - val_loss: 0.1694 - val_accuracy: 0.9375\n",
      "Epoch 38/50\n",
      "10/10 [==============================] - 2s 164ms/step - loss: 0.1674 - accuracy: 0.8683 - val_loss: 0.0460 - val_accuracy: 1.0000\n",
      "Epoch 39/50\n",
      "10/10 [==============================] - 2s 189ms/step - loss: 0.2793 - accuracy: 0.9063 - val_loss: 0.2179 - val_accuracy: 0.8750\n",
      "Epoch 40/50\n",
      "10/10 [==============================] - 2s 206ms/step - loss: 0.1827 - accuracy: 0.9334 - val_loss: 0.0246 - val_accuracy: 1.0000\n",
      "Epoch 41/50\n",
      "10/10 [==============================] - 2s 190ms/step - loss: 0.1329 - accuracy: 0.9612 - val_loss: 0.0375 - val_accuracy: 1.0000\n",
      "Epoch 42/50\n",
      "10/10 [==============================] - 2s 171ms/step - loss: 0.2035 - accuracy: 0.8871 - val_loss: 0.1516 - val_accuracy: 0.9375\n",
      "Epoch 43/50\n",
      "10/10 [==============================] - 2s 186ms/step - loss: 0.3458 - accuracy: 0.8392 - val_loss: 0.0803 - val_accuracy: 1.0000\n",
      "Epoch 44/50\n",
      "10/10 [==============================] - 2s 179ms/step - loss: 0.1544 - accuracy: 0.9451 - val_loss: 0.0584 - val_accuracy: 1.0000\n",
      "Epoch 45/50\n",
      "10/10 [==============================] - 1s 130ms/step - loss: 0.1794 - accuracy: 0.8714 - val_loss: 0.0246 - val_accuracy: 1.0000\n",
      "Epoch 46/50\n",
      "10/10 [==============================] - 1s 142ms/step - loss: 0.0818 - accuracy: 0.9721 - val_loss: 0.0788 - val_accuracy: 0.9375\n",
      "Epoch 47/50\n",
      "10/10 [==============================] - 1s 113ms/step - loss: 0.1201 - accuracy: 0.9126 - val_loss: 0.0183 - val_accuracy: 1.0000\n",
      "Epoch 48/50\n",
      "10/10 [==============================] - 2s 188ms/step - loss: 0.1121 - accuracy: 0.9855 - val_loss: 0.2269 - val_accuracy: 0.9375\n",
      "Epoch 49/50\n",
      "10/10 [==============================] - 2s 179ms/step - loss: 0.1085 - accuracy: 0.9691 - val_loss: 0.3478 - val_accuracy: 0.9375\n",
      "Epoch 50/50\n",
      "10/10 [==============================] - 2s 178ms/step - loss: 0.1532 - accuracy: 0.9583 - val_loss: 0.2834 - val_accuracy: 0.8750\n"
     ]
    },
    {
     "data": {
      "text/plain": [
       "<keras.callbacks.History at 0x1a812fbea00>"
      ]
     },
     "execution_count": 5,
     "metadata": {},
     "output_type": "execute_result"
    }
   ],
   "source": [
    "#training the model and obtaining accuracy\n",
    "model.fit_generator(training_set,\n",
    "                         steps_per_epoch = 10,\n",
    "                         epochs = 50,\n",
    "                         validation_data = val_set,\n",
    "                         validation_steps = 2)"
   ]
  },
  {
   "cell_type": "code",
   "execution_count": 6,
   "id": "c2a05064",
   "metadata": {},
   "outputs": [],
   "source": [
    "import tensorflow as tf"
   ]
  },
  {
   "cell_type": "code",
   "execution_count": 7,
   "id": "512eab3c",
   "metadata": {},
   "outputs": [
    {
     "name": "stdout",
     "output_type": "stream",
     "text": [
      "Saved model to disk\n"
     ]
    }
   ],
   "source": [
    "model_json = model.to_json()\n",
    "with open(\"model.json\", \"w\") as json_file:\n",
    "    json_file.write(model_json)\n",
    "model.save_weights(\"model.h5\")\n",
    "print(\"Saved model to disk\")"
   ]
  },
  {
   "cell_type": "code",
   "execution_count": 8,
   "id": "ff5d1916",
   "metadata": {},
   "outputs": [],
   "source": [
    "\n",
    "from keras.models import model_from_json\n",
    "import numpy as np\n",
    "from keras.preprocessing import image"
   ]
  },
  {
   "cell_type": "code",
   "execution_count": 9,
   "id": "50b41167",
   "metadata": {},
   "outputs": [
    {
     "name": "stdout",
     "output_type": "stream",
     "text": [
      "Loaded model from disk\n"
     ]
    }
   ],
   "source": [
    "json_file = open('model.json', 'r')\n",
    "loaded_model_json = json_file.read()\n",
    "json_file.close()\n",
    "model = model_from_json(loaded_model_json)\n",
    "model.load_weights(\"model.h5\")\n",
    "print(\"Loaded model from disk\")"
   ]
  },
  {
   "cell_type": "code",
   "execution_count": 15,
   "id": "5e755885",
   "metadata": {},
   "outputs": [],
   "source": [
    "#function to give the output for each prediction\n",
    "def classify(img_file):\n",
    "    img_name = img_file\n",
    "    test_image = image.load_img(img_name, target_size = (64, 64))\n",
    "\n",
    "    test_image = image.img_to_array(test_image)\n",
    "    test_image = np.expand_dims(test_image, axis=0)\n",
    "    result = model.predict(test_image)\n",
    "\n",
    "    if result[0][0] == 1:\n",
    "        prediction = 'truck'\n",
    "    else:\n",
    "        prediction = 'ship'\n",
    "    print(prediction,img_name)"
   ]
  },
  {
   "cell_type": "code",
   "execution_count": 18,
   "id": "462a02b1",
   "metadata": {},
   "outputs": [],
   "source": [
    "#each file in the test dataset is checked\n",
    "import os\n",
    "path = 'C:/Users/musth/Desktop/shatru/Dataset/test'\n",
    "files = []\n",
    "# r=root, d=directories, f = files\n",
    "for r, d, f in os.walk(path):\n",
    "    for file in f:\n",
    "     #can change the file type to jpg,png,jpeg as required\n",
    "        if '.jpg' in file:\n",
    "            files.append(os.path.join(r, file))"
   ]
  },
  {
   "cell_type": "code",
   "execution_count": 19,
   "id": "6e99fbb2",
   "metadata": {},
   "outputs": [
    {
     "name": "stdout",
     "output_type": "stream",
     "text": [
      "ship C:/Users/musth/Desktop/shatru/Dataset/test\\23101504.jpg\n",
      "\n",
      "\n",
      "truck C:/Users/musth/Desktop/shatru/Dataset/test\\25295937.jpg\n",
      "\n",
      "\n",
      "truck C:/Users/musth/Desktop/shatru/Dataset/test\\27300711.jpg\n",
      "\n",
      "\n",
      "truck C:/Users/musth/Desktop/shatru/Dataset/test\\28723768.jpg\n",
      "\n",
      "\n",
      "ship C:/Users/musth/Desktop/shatru/Dataset/test\\299281.jpg\n",
      "\n",
      "\n",
      "ship C:/Users/musth/Desktop/shatru/Dataset/test\\299795.jpg\n",
      "\n",
      "\n",
      "ship C:/Users/musth/Desktop/shatru/Dataset/test\\299796.jpg\n",
      "\n",
      "\n",
      "ship C:/Users/musth/Desktop/shatru/Dataset/test\\299803.jpg\n",
      "\n",
      "\n",
      "ship C:/Users/musth/Desktop/shatru/Dataset/test\\554491.jpg\n",
      "\n",
      "\n",
      "ship C:/Users/musth/Desktop/shatru/Dataset/test\\560394.jpg\n",
      "\n",
      "\n",
      "ship C:/Users/musth/Desktop/shatru/Dataset/test\\563043.jpg\n",
      "\n",
      "\n",
      "ship C:/Users/musth/Desktop/shatru/Dataset/test\\565155.jpg\n",
      "\n",
      "\n",
      "truck C:/Users/musth/Desktop/shatru/Dataset/test\\62334922.jpg\n",
      "\n",
      "\n",
      "truck C:/Users/musth/Desktop/shatru/Dataset/test\\63292023.jpg\n",
      "\n",
      "\n",
      "truck C:/Users/musth/Desktop/shatru/Dataset/test\\64696696.jpg\n",
      "\n",
      "\n",
      "truck C:/Users/musth/Desktop/shatru/Dataset/test\\65561577.jpg\n",
      "\n",
      "\n"
     ]
    }
   ],
   "source": [
    "#printing prediction for each file\n",
    "for f in files:\n",
    "    classify(f)\n",
    "    print('\\n')"
   ]
  },
  {
   "cell_type": "code",
   "execution_count": 22,
   "id": "3ba4a485",
   "metadata": {},
   "outputs": [
    {
     "name": "stdout",
     "output_type": "stream",
     "text": [
      "Overwriting app.py\n"
     ]
    }
   ],
   "source": [
    "%%writefile app.py\n",
    "import streamlit as st\n",
    "from keras.models import model_from_json\n",
    "#import tensorflow as tf\n",
    "\n",
    "st.set_option('deprecation.showfileUploaderEncoding',False)\n",
    "@st.cache(allow_output_mutation=True)\n",
    "def load_model():\n",
    "    json_file = open('model.json', 'r')\n",
    "    loaded_model_json = json_file.read()\n",
    "    json_file.close()\n",
    "    model = model_from_json(loaded_model_json)\n",
    "    model.load_weights(\"model.h5\")\n",
    "    return model\n",
    "\n",
    "model=load_model()  \n",
    "  \n",
    "\n",
    "st.write(\"\"\"\n",
    "            SHIP or TRUCK Classifier\n",
    "         \"\"\"\n",
    "        )\n",
    "file=st.file_uploader(\"Please upload an image of TRUCK or SHIP\",type=[\"jpg\"])\n",
    "#import cv2\n",
    "from PIL import Image,ImageOps\n",
    "import numpy as np\n",
    "def import_and_predict(image_data,model):\n",
    "\n",
    "    size=(64,64)\n",
    "    image= ImageOps.fit(image_data,size,Image.ANTIALIAS)\n",
    "    img=np.asarray(image)\n",
    "    img_reshape=img[np.newaxis,...]\n",
    "    prediction=model.predict(img_reshape)\n",
    "    if prediction[0][0]==1:\n",
    "        preds='TRUCK'\n",
    "    else:\n",
    "        preds='SHIIP'\n",
    "    return preds  \n",
    "  #return prediction\n",
    "\n",
    "\n",
    "if file is None:\n",
    "    st.text(\"Please upload an image file\")\n",
    "else:\n",
    "    image=Image.open(file)\n",
    "    st.image(image,use_column_width=True)\n",
    "    predictions = import_and_predict(image,model)\n",
    "    #class_names=['Mango','Jackfruit']\n",
    "    string=\"This image is most likely:\"+predictions\n",
    "    st.success(string)"
   ]
  },
  {
   "cell_type": "code",
   "execution_count": null,
   "id": "bd811427",
   "metadata": {},
   "outputs": [],
   "source": []
  }
 ],
 "metadata": {
  "kernelspec": {
   "display_name": "Python 3",
   "language": "python",
   "name": "python3"
  },
  "language_info": {
   "codemirror_mode": {
    "name": "ipython",
    "version": 3
   },
   "file_extension": ".py",
   "mimetype": "text/x-python",
   "name": "python",
   "nbconvert_exporter": "python",
   "pygments_lexer": "ipython3",
   "version": "3.8.8"
  }
 },
 "nbformat": 4,
 "nbformat_minor": 5
}
